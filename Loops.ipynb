{
  "nbformat": 4,
  "nbformat_minor": 0,
  "metadata": {
    "colab": {
      "name": "Loops.ipynb",
      "provenance": [],
      "authorship_tag": "ABX9TyMDABOulgdoSO1ufD8A1uL+",
      "include_colab_link": true
    },
    "kernelspec": {
      "name": "python3",
      "display_name": "Python 3"
    },
    "language_info": {
      "name": "python"
    }
  },
  "cells": [
    {
      "cell_type": "markdown",
      "metadata": {
        "id": "view-in-github",
        "colab_type": "text"
      },
      "source": [
        "<a href=\"https://colab.research.google.com/github/Roberto-Parra-R/Master-DS-AI-Devf/blob/master/Loops.ipynb\" target=\"_parent\"><img src=\"https://colab.research.google.com/assets/colab-badge.svg\" alt=\"Open In Colab\"/></a>"
      ]
    },
    {
      "cell_type": "markdown",
      "source": [
        "# Comparison Operations"
      ],
      "metadata": {
        "id": "WKPawBulqtht"
      }
    },
    {
      "cell_type": "code",
      "execution_count": null,
      "metadata": {
        "id": "diK8fr9VQDds"
      },
      "outputs": [],
      "source": [
        "a = int(input())\n",
        "b = 33\n",
        "if b > a:\n",
        "   print('b es más grande que a')\n",
        "elif b==a:\n",
        "  print('b es exactamente igual a a') \n",
        "else:\n",
        "  print('b no es más grande que a')"
      ]
    },
    {
      "cell_type": "code",
      "source": [
        "y='你好'\n",
        "x='世界'\n",
        "if y > x:\n",
        "   print('y es más grande que x')\n",
        "elif y==x:\n",
        "  print('y es exactamente igual a x') \n",
        "else:\n",
        "  print('y no es más grande que x')"
      ],
      "metadata": {
        "id": "hFR-rLWhSOfK"
      },
      "execution_count": null,
      "outputs": []
    },
    {
      "cell_type": "markdown",
      "source": [
        "# If"
      ],
      "metadata": {
        "id": "SS1mf3UQq45G"
      }
    },
    {
      "cell_type": "code",
      "source": [
        "n = 5\n",
        "if (type(n) is float):\n",
        "  print('true')\n",
        "else:\n",
        "  print('false')"
      ],
      "metadata": {
        "id": "z1q8t_siWOsE"
      },
      "execution_count": null,
      "outputs": []
    },
    {
      "cell_type": "code",
      "source": [
        "name='Charmander'\n",
        "strenght='100'\n",
        "print ('Tu nombre es ', name ,', y tu fuerza es', strenght)"
      ],
      "metadata": {
        "id": "7DmNRy1FVS9c"
      },
      "execution_count": null,
      "outputs": []
    },
    {
      "cell_type": "markdown",
      "source": [
        "# Lists and For loop"
      ],
      "metadata": {
        "id": "pcC4cBLPrBxq"
      }
    },
    {
      "cell_type": "code",
      "source": [
        "list1=[1,2,3,4,5]\n",
        "list2=[0,5,8,9,10]\n",
        "i=0\n",
        "\n",
        "for item in list1:\n",
        "  if item in list2:\n",
        "    i += 1\n",
        "\n",
        "if i > 0:\n",
        "  print('Overlapping', i,' time(s).')\n",
        "else: \n",
        "  print('Not Overlapping')"
      ],
      "metadata": {
        "id": "6zKjb__IYtgb"
      },
      "execution_count": null,
      "outputs": []
    },
    {
      "cell_type": "code",
      "source": [
        "for lista in range(11):\n",
        "  print(lista)"
      ],
      "metadata": {
        "id": "qwgxgY4GkWI1"
      },
      "execution_count": null,
      "outputs": []
    },
    {
      "cell_type": "markdown",
      "source": [
        "# While"
      ],
      "metadata": {
        "id": "onz52zGMrHCr"
      }
    },
    {
      "cell_type": "code",
      "source": [
        "count=1\n",
        "while count < 1024:\n",
        "  count *= 2\n",
        "  print(count)"
      ],
      "metadata": {
        "id": "OBl8Jt-clOZB"
      },
      "execution_count": null,
      "outputs": []
    },
    {
      "cell_type": "code",
      "source": [
        "semilla=123456789\n",
        "for num_al in range (100):\n",
        "  \n",
        "  n1=semilla**2\n",
        "  n1=str(n1)\n",
        "\n",
        "  #print(semilla)\n",
        "  if len(n1)>4:\n",
        "    n1=int(n1[:4])\n",
        "  else:\n",
        "    n1=int(n1[:-2][1:])\n",
        "  semilla=n1"
      ],
      "metadata": {
        "id": "AHp37twvrUIr"
      },
      "execution_count": null,
      "outputs": []
    },
    {
      "cell_type": "code",
      "source": [
        "  print(semilla)"
      ],
      "metadata": {
        "id": "3kiRZvVmtciM"
      },
      "execution_count": null,
      "outputs": []
    },
    {
      "cell_type": "markdown",
      "source": [
        "# Tarea"
      ],
      "metadata": {
        "id": "KUJthazhy_TH"
      }
    },
    {
      "cell_type": "code",
      "source": [
        "num_in=input()\n",
        "while True:\n",
        "  if len(num_in)<8:\n",
        "    num_in='0'+ num_in\n",
        "  else: \n",
        "    break\n",
        "print(num_in)"
      ],
      "metadata": {
        "colab": {
          "base_uri": "https://localhost:8080/"
        },
        "id": "2lL6H_TPtxk7",
        "outputId": "620db641-421f-469d-c4aa-92567ab4720b"
      },
      "execution_count": null,
      "outputs": [
        {
          "output_type": "stream",
          "name": "stdout",
          "text": [
            "1\n",
            "00000001\n"
          ]
        }
      ]
    }
  ]
}