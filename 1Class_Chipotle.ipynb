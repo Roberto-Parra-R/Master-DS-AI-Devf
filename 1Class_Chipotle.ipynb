{
  "cells": [
    {
      "cell_type": "markdown",
      "metadata": {
        "id": "view-in-github",
        "colab_type": "text"
      },
      "source": [
        "<a href=\"https://colab.research.google.com/github/Roberto-Parra-R/Master-DS-AI-Devf/blob/M%C3%B3dulo-4-Kata-Data-Wrangling/1Class_Chipotle.ipynb\" target=\"_parent\"><img src=\"https://colab.research.google.com/assets/colab-badge.svg\" alt=\"Open In Colab\"/></a>"
      ]
    },
    {
      "cell_type": "markdown",
      "metadata": {
        "id": "MKIU29nV2LUB"
      },
      "source": [
        "# Ex2 - Getting and Knowing your Data"
      ]
    },
    {
      "cell_type": "markdown",
      "metadata": {
        "id": "5ED064tu2LUF"
      },
      "source": [
        "This time we are going to pull data directly from the internet.\n",
        "Special thanks to: https://github.com/justmarkham for sharing the dataset and materials.\n",
        "\n",
        "### Step 1. Import the necessary libraries"
      ]
    },
    {
      "cell_type": "code",
      "execution_count": 1,
      "metadata": {
        "id": "qsoi3LAl2LUH"
      },
      "outputs": [],
      "source": [
        "import pandas as pd\n",
        "import numpy as np"
      ]
    },
    {
      "cell_type": "markdown",
      "metadata": {
        "id": "yaRqPpiD2LUH"
      },
      "source": [
        "### Step 2. Import the dataset from this [address](https://raw.githubusercontent.com/justmarkham/DAT8/master/data/chipotle.tsv). "
      ]
    },
    {
      "cell_type": "markdown",
      "metadata": {
        "id": "FolytYAI2LUI"
      },
      "source": [
        "### Step 3. Assign it to a variable called chipo."
      ]
    },
    {
      "cell_type": "code",
      "execution_count": 2,
      "metadata": {
        "id": "LmxF3_GN2LUJ"
      },
      "outputs": [],
      "source": [
        "chipo = '/content/chipotle.tsv'\n",
        "chipo_db = pd.read_csv(chipo, sep='\\t')"
      ]
    },
    {
      "cell_type": "markdown",
      "metadata": {
        "id": "lqxjTSfC2LUJ"
      },
      "source": [
        "### Step 4. See the first 10 entries"
      ]
    },
    {
      "cell_type": "code",
      "execution_count": 25,
      "metadata": {
        "scrolled": false,
        "id": "opZ0_tvW2LUK",
        "colab": {
          "base_uri": "https://localhost:8080/",
          "height": 363
        },
        "outputId": "f6dfc6bc-facc-4737-8bd6-260361d7ac10"
      },
      "outputs": [
        {
          "output_type": "execute_result",
          "data": {
            "text/plain": [
              "   order_id  quantity                              item_name  \\\n",
              "0         1         1           Chips and Fresh Tomato Salsa   \n",
              "1         1         1                                   Izze   \n",
              "2         1         1                       Nantucket Nectar   \n",
              "3         1         1  Chips and Tomatillo-Green Chili Salsa   \n",
              "4         2         2                           Chicken Bowl   \n",
              "5         3         1                           Chicken Bowl   \n",
              "6         3         1                          Side of Chips   \n",
              "7         4         1                          Steak Burrito   \n",
              "8         4         1                       Steak Soft Tacos   \n",
              "9         5         1                          Steak Burrito   \n",
              "\n",
              "                                  choice_description item_price  \n",
              "0                                                 []     $2.39   \n",
              "1                                       [Clementine]     $3.39   \n",
              "2                                            [Apple]     $3.39   \n",
              "3                                                 []     $2.39   \n",
              "4  [Tomatillo-Red Chili Salsa (Hot), Black Beans,...    $16.98   \n",
              "5  [Fresh Tomato Salsa (Mild), Rice, Cheese, Sour...    $10.98   \n",
              "6                                                 []     $1.69   \n",
              "7  [Tomatillo Red Chili Salsa, Fajita Vegetables,...    $11.75   \n",
              "8  [Tomatillo Green Chili Salsa, Pinto Beans, Che...     $9.25   \n",
              "9  [Fresh Tomato Salsa, Rice, Black Beans, Pinto ...     $9.25   "
            ],
            "text/html": [
              "\n",
              "  <div id=\"df-85c012ec-be55-4a09-9162-2445742679ab\">\n",
              "    <div class=\"colab-df-container\">\n",
              "      <div>\n",
              "<style scoped>\n",
              "    .dataframe tbody tr th:only-of-type {\n",
              "        vertical-align: middle;\n",
              "    }\n",
              "\n",
              "    .dataframe tbody tr th {\n",
              "        vertical-align: top;\n",
              "    }\n",
              "\n",
              "    .dataframe thead th {\n",
              "        text-align: right;\n",
              "    }\n",
              "</style>\n",
              "<table border=\"1\" class=\"dataframe\">\n",
              "  <thead>\n",
              "    <tr style=\"text-align: right;\">\n",
              "      <th></th>\n",
              "      <th>order_id</th>\n",
              "      <th>quantity</th>\n",
              "      <th>item_name</th>\n",
              "      <th>choice_description</th>\n",
              "      <th>item_price</th>\n",
              "    </tr>\n",
              "  </thead>\n",
              "  <tbody>\n",
              "    <tr>\n",
              "      <th>0</th>\n",
              "      <td>1</td>\n",
              "      <td>1</td>\n",
              "      <td>Chips and Fresh Tomato Salsa</td>\n",
              "      <td>[]</td>\n",
              "      <td>$2.39</td>\n",
              "    </tr>\n",
              "    <tr>\n",
              "      <th>1</th>\n",
              "      <td>1</td>\n",
              "      <td>1</td>\n",
              "      <td>Izze</td>\n",
              "      <td>[Clementine]</td>\n",
              "      <td>$3.39</td>\n",
              "    </tr>\n",
              "    <tr>\n",
              "      <th>2</th>\n",
              "      <td>1</td>\n",
              "      <td>1</td>\n",
              "      <td>Nantucket Nectar</td>\n",
              "      <td>[Apple]</td>\n",
              "      <td>$3.39</td>\n",
              "    </tr>\n",
              "    <tr>\n",
              "      <th>3</th>\n",
              "      <td>1</td>\n",
              "      <td>1</td>\n",
              "      <td>Chips and Tomatillo-Green Chili Salsa</td>\n",
              "      <td>[]</td>\n",
              "      <td>$2.39</td>\n",
              "    </tr>\n",
              "    <tr>\n",
              "      <th>4</th>\n",
              "      <td>2</td>\n",
              "      <td>2</td>\n",
              "      <td>Chicken Bowl</td>\n",
              "      <td>[Tomatillo-Red Chili Salsa (Hot), Black Beans,...</td>\n",
              "      <td>$16.98</td>\n",
              "    </tr>\n",
              "    <tr>\n",
              "      <th>5</th>\n",
              "      <td>3</td>\n",
              "      <td>1</td>\n",
              "      <td>Chicken Bowl</td>\n",
              "      <td>[Fresh Tomato Salsa (Mild), Rice, Cheese, Sour...</td>\n",
              "      <td>$10.98</td>\n",
              "    </tr>\n",
              "    <tr>\n",
              "      <th>6</th>\n",
              "      <td>3</td>\n",
              "      <td>1</td>\n",
              "      <td>Side of Chips</td>\n",
              "      <td>[]</td>\n",
              "      <td>$1.69</td>\n",
              "    </tr>\n",
              "    <tr>\n",
              "      <th>7</th>\n",
              "      <td>4</td>\n",
              "      <td>1</td>\n",
              "      <td>Steak Burrito</td>\n",
              "      <td>[Tomatillo Red Chili Salsa, Fajita Vegetables,...</td>\n",
              "      <td>$11.75</td>\n",
              "    </tr>\n",
              "    <tr>\n",
              "      <th>8</th>\n",
              "      <td>4</td>\n",
              "      <td>1</td>\n",
              "      <td>Steak Soft Tacos</td>\n",
              "      <td>[Tomatillo Green Chili Salsa, Pinto Beans, Che...</td>\n",
              "      <td>$9.25</td>\n",
              "    </tr>\n",
              "    <tr>\n",
              "      <th>9</th>\n",
              "      <td>5</td>\n",
              "      <td>1</td>\n",
              "      <td>Steak Burrito</td>\n",
              "      <td>[Fresh Tomato Salsa, Rice, Black Beans, Pinto ...</td>\n",
              "      <td>$9.25</td>\n",
              "    </tr>\n",
              "  </tbody>\n",
              "</table>\n",
              "</div>\n",
              "      <button class=\"colab-df-convert\" onclick=\"convertToInteractive('df-85c012ec-be55-4a09-9162-2445742679ab')\"\n",
              "              title=\"Convert this dataframe to an interactive table.\"\n",
              "              style=\"display:none;\">\n",
              "        \n",
              "  <svg xmlns=\"http://www.w3.org/2000/svg\" height=\"24px\"viewBox=\"0 0 24 24\"\n",
              "       width=\"24px\">\n",
              "    <path d=\"M0 0h24v24H0V0z\" fill=\"none\"/>\n",
              "    <path d=\"M18.56 5.44l.94 2.06.94-2.06 2.06-.94-2.06-.94-.94-2.06-.94 2.06-2.06.94zm-11 1L8.5 8.5l.94-2.06 2.06-.94-2.06-.94L8.5 2.5l-.94 2.06-2.06.94zm10 10l.94 2.06.94-2.06 2.06-.94-2.06-.94-.94-2.06-.94 2.06-2.06.94z\"/><path d=\"M17.41 7.96l-1.37-1.37c-.4-.4-.92-.59-1.43-.59-.52 0-1.04.2-1.43.59L10.3 9.45l-7.72 7.72c-.78.78-.78 2.05 0 2.83L4 21.41c.39.39.9.59 1.41.59.51 0 1.02-.2 1.41-.59l7.78-7.78 2.81-2.81c.8-.78.8-2.07 0-2.86zM5.41 20L4 18.59l7.72-7.72 1.47 1.35L5.41 20z\"/>\n",
              "  </svg>\n",
              "      </button>\n",
              "      \n",
              "  <style>\n",
              "    .colab-df-container {\n",
              "      display:flex;\n",
              "      flex-wrap:wrap;\n",
              "      gap: 12px;\n",
              "    }\n",
              "\n",
              "    .colab-df-convert {\n",
              "      background-color: #E8F0FE;\n",
              "      border: none;\n",
              "      border-radius: 50%;\n",
              "      cursor: pointer;\n",
              "      display: none;\n",
              "      fill: #1967D2;\n",
              "      height: 32px;\n",
              "      padding: 0 0 0 0;\n",
              "      width: 32px;\n",
              "    }\n",
              "\n",
              "    .colab-df-convert:hover {\n",
              "      background-color: #E2EBFA;\n",
              "      box-shadow: 0px 1px 2px rgba(60, 64, 67, 0.3), 0px 1px 3px 1px rgba(60, 64, 67, 0.15);\n",
              "      fill: #174EA6;\n",
              "    }\n",
              "\n",
              "    [theme=dark] .colab-df-convert {\n",
              "      background-color: #3B4455;\n",
              "      fill: #D2E3FC;\n",
              "    }\n",
              "\n",
              "    [theme=dark] .colab-df-convert:hover {\n",
              "      background-color: #434B5C;\n",
              "      box-shadow: 0px 1px 3px 1px rgba(0, 0, 0, 0.15);\n",
              "      filter: drop-shadow(0px 1px 2px rgba(0, 0, 0, 0.3));\n",
              "      fill: #FFFFFF;\n",
              "    }\n",
              "  </style>\n",
              "\n",
              "      <script>\n",
              "        const buttonEl =\n",
              "          document.querySelector('#df-85c012ec-be55-4a09-9162-2445742679ab button.colab-df-convert');\n",
              "        buttonEl.style.display =\n",
              "          google.colab.kernel.accessAllowed ? 'block' : 'none';\n",
              "\n",
              "        async function convertToInteractive(key) {\n",
              "          const element = document.querySelector('#df-85c012ec-be55-4a09-9162-2445742679ab');\n",
              "          const dataTable =\n",
              "            await google.colab.kernel.invokeFunction('convertToInteractive',\n",
              "                                                     [key], {});\n",
              "          if (!dataTable) return;\n",
              "\n",
              "          const docLinkHtml = 'Like what you see? Visit the ' +\n",
              "            '<a target=\"_blank\" href=https://colab.research.google.com/notebooks/data_table.ipynb>data table notebook</a>'\n",
              "            + ' to learn more about interactive tables.';\n",
              "          element.innerHTML = '';\n",
              "          dataTable['output_type'] = 'display_data';\n",
              "          await google.colab.output.renderOutput(dataTable, element);\n",
              "          const docLink = document.createElement('div');\n",
              "          docLink.innerHTML = docLinkHtml;\n",
              "          element.appendChild(docLink);\n",
              "        }\n",
              "      </script>\n",
              "    </div>\n",
              "  </div>\n",
              "  "
            ]
          },
          "metadata": {},
          "execution_count": 25
        }
      ],
      "source": [
        "chipo_db.head(10)"
      ]
    },
    {
      "cell_type": "markdown",
      "metadata": {
        "id": "9GcSepO72LUK"
      },
      "source": [
        "### Step 5. What is the number of observations in the dataset?"
      ]
    },
    {
      "cell_type": "code",
      "execution_count": 16,
      "metadata": {
        "id": "njjtx2RB2LUL",
        "colab": {
          "base_uri": "https://localhost:8080/"
        },
        "outputId": "1a2cde99-e778-45bf-9eea-3201ad1df8f5"
      },
      "outputs": [
        {
          "output_type": "execute_result",
          "data": {
            "text/plain": [
              "(4622, 5)"
            ]
          },
          "metadata": {},
          "execution_count": 16
        }
      ],
      "source": [
        "# Solution 1\n",
        "chipo_db.shape\n"
      ]
    },
    {
      "cell_type": "code",
      "execution_count": 17,
      "metadata": {
        "id": "4Cur60LI2LUM",
        "colab": {
          "base_uri": "https://localhost:8080/"
        },
        "outputId": "c1465615-9b7a-4ec6-b57f-60771bfe81e5"
      },
      "outputs": [
        {
          "output_type": "execute_result",
          "data": {
            "text/plain": [
              "4622"
            ]
          },
          "metadata": {},
          "execution_count": 17
        }
      ],
      "source": [
        "# Solution 2\n",
        "chipo_db.shape[0]\n"
      ]
    },
    {
      "cell_type": "markdown",
      "metadata": {
        "id": "71J_YAlb2LUN"
      },
      "source": [
        "### Step 6. What is the number of columns in the dataset?"
      ]
    },
    {
      "cell_type": "code",
      "execution_count": 18,
      "metadata": {
        "id": "6YN9VQnp2LUN",
        "colab": {
          "base_uri": "https://localhost:8080/"
        },
        "outputId": "d7def0c2-bad7-43b3-c9cd-6c384228ae98"
      },
      "outputs": [
        {
          "output_type": "stream",
          "name": "stdout",
          "text": [
            "5\n",
            "<class 'pandas.core.frame.DataFrame'>\n",
            "RangeIndex: 4622 entries, 0 to 4621\n",
            "Data columns (total 5 columns):\n",
            " #   Column              Non-Null Count  Dtype \n",
            "---  ------              --------------  ----- \n",
            " 0   order_id            4622 non-null   int64 \n",
            " 1   quantity            4622 non-null   int64 \n",
            " 2   item_name           4622 non-null   object\n",
            " 3   choice_description  4622 non-null   object\n",
            " 4   item_price          4622 non-null   object\n",
            "dtypes: int64(2), object(3)\n",
            "memory usage: 180.7+ KB\n"
          ]
        }
      ],
      "source": [
        "print(chipo_db.shape[1])\n",
        "\n",
        "#OR\n",
        "\n",
        "chipo_db.info()"
      ]
    },
    {
      "cell_type": "markdown",
      "metadata": {
        "id": "2qAM4j-n2LUO"
      },
      "source": [
        "### Step 7. Print the name of all the columns."
      ]
    },
    {
      "cell_type": "code",
      "execution_count": 19,
      "metadata": {
        "id": "n7fCMB_z2LUO",
        "colab": {
          "base_uri": "https://localhost:8080/"
        },
        "outputId": "b9c6364f-9dcc-47f7-d0e2-f1e8a634d507"
      },
      "outputs": [
        {
          "output_type": "execute_result",
          "data": {
            "text/plain": [
              "Index(['order_id', 'quantity', 'item_name', 'choice_description',\n",
              "       'item_price'],\n",
              "      dtype='object')"
            ]
          },
          "metadata": {},
          "execution_count": 19
        }
      ],
      "source": [
        "chipo_db.columns"
      ]
    },
    {
      "cell_type": "markdown",
      "metadata": {
        "id": "yvGzr28M2LUO"
      },
      "source": [
        "### Step 8. How is the dataset indexed?"
      ]
    },
    {
      "cell_type": "code",
      "execution_count": 20,
      "metadata": {
        "id": "SsezCqfV2LUP",
        "colab": {
          "base_uri": "https://localhost:8080/"
        },
        "outputId": "37e8aadf-7284-4a2a-dc0f-cfb03775cd2b"
      },
      "outputs": [
        {
          "output_type": "execute_result",
          "data": {
            "text/plain": [
              "RangeIndex(start=0, stop=4622, step=1)"
            ]
          },
          "metadata": {},
          "execution_count": 20
        }
      ],
      "source": [
        "chipo_db.index"
      ]
    },
    {
      "cell_type": "markdown",
      "metadata": {
        "id": "i5Ex6oUB2LUP"
      },
      "source": [
        "### Step 9. Which was the most-ordered item? "
      ]
    },
    {
      "cell_type": "code",
      "execution_count": 21,
      "metadata": {
        "id": "a4B-pRtS2LUP",
        "colab": {
          "base_uri": "https://localhost:8080/",
          "height": 36
        },
        "outputId": "d8efdc4c-864d-4fca-c272-4bf52e2235b6"
      },
      "outputs": [
        {
          "output_type": "execute_result",
          "data": {
            "text/plain": [
              "'Chicken Bowl'"
            ],
            "application/vnd.google.colaboratory.intrinsic+json": {
              "type": "string"
            }
          },
          "metadata": {},
          "execution_count": 21
        }
      ],
      "source": [
        "most_ordered = chipo_db['item_name'].value_counts().idxmax()\n",
        "most_ordered"
      ]
    },
    {
      "cell_type": "markdown",
      "metadata": {
        "id": "fet9ow9d2LUP"
      },
      "source": [
        "### Step 10. For the most-ordered item, how many items were ordered?"
      ]
    },
    {
      "cell_type": "code",
      "execution_count": 22,
      "metadata": {
        "id": "R-Vhiu722LUQ",
        "colab": {
          "base_uri": "https://localhost:8080/"
        },
        "outputId": "708609e1-e6f5-4005-c777-f38368c75089"
      },
      "outputs": [
        {
          "output_type": "execute_result",
          "data": {
            "text/plain": [
              "761"
            ]
          },
          "metadata": {},
          "execution_count": 22
        }
      ],
      "source": [
        "chipo_db.loc[chipo_db['item_name'] == (most_ordered), 'quantity'].sum()"
      ]
    },
    {
      "cell_type": "markdown",
      "metadata": {
        "id": "-elL-BR82LUQ"
      },
      "source": [
        "### Step 11. What was the most ordered item in the choice_description column?"
      ]
    },
    {
      "cell_type": "code",
      "source": [
        "for i, l in enumerate(chipo_db['choice_description']):\n",
        "    print(\"list\",i,\"is\",type(l))"
      ],
      "metadata": {
        "id": "W9-omAdcJ2hm"
      },
      "execution_count": null,
      "outputs": []
    },
    {
      "cell_type": "code",
      "execution_count": 5,
      "metadata": {
        "id": "TMq8QHBO2LUQ"
      },
      "outputs": [],
      "source": [
        "chipo_db['choice_description'] = chipo_db['choice_description'].fillna('')\n",
        "def clean_alt_list(list_):\n",
        "    list_ = list_.replace(', ', '\",\"')\n",
        "    list_ = list_.replace('[', '')\n",
        "    list_ = list_.replace(']', '')\n",
        "    list_ = '[\"'+ list_ + '\"]'\n",
        "    return list_\n",
        "\n",
        "chipo_db['choice_description'] = chipo_db['choice_description'].apply(clean_alt_list)\n",
        "chipo_db.loc[(chipo_db['choice_description'] == '[\"\"]'),'choice_description']=''"
      ]
    },
    {
      "cell_type": "code",
      "source": [
        "chipo_db.loc[(chipo_db['choice_description'] == ''),'choice_description']='[\"\"]'"
      ],
      "metadata": {
        "id": "rDVAKaG_VcZ9"
      },
      "execution_count": 11,
      "outputs": []
    },
    {
      "cell_type": "code",
      "source": [
        "chipo_db.head(10)"
      ],
      "metadata": {
        "id": "-qh13GefLoht"
      },
      "execution_count": null,
      "outputs": []
    },
    {
      "cell_type": "code",
      "source": [
        "chipo_db['choice_description'] = chipo_db['choice_description'].apply(eval)"
      ],
      "metadata": {
        "id": "ljOoTkSSUCJi"
      },
      "execution_count": 14,
      "outputs": []
    },
    {
      "cell_type": "code",
      "source": [
        "for i, l in enumerate(chipo_db['choice_description']):\n",
        " print('list',i,'is',type(l))"
      ],
      "metadata": {
        "id": "BAw696CVL2K7"
      },
      "execution_count": null,
      "outputs": []
    },
    {
      "cell_type": "code",
      "source": [
        "def to_1D(series):\n",
        " return pd.Series([x for _list in series for x in _list])"
      ],
      "metadata": {
        "id": "f6svd5qFTYtx"
      },
      "execution_count": 9,
      "outputs": []
    },
    {
      "cell_type": "code",
      "source": [
        "to_1D(chipo_db['choice_description']).value_counts()"
      ],
      "metadata": {
        "colab": {
          "base_uri": "https://localhost:8080/"
        },
        "id": "-t_beHTDTbPc",
        "outputId": "2ba7235b-d42b-4f3e-a555-3d9ed6f08b9a"
      },
      "execution_count": 58,
      "outputs": [
        {
          "output_type": "execute_result",
          "data": {
            "text/plain": [
              "Rice                                    2389\n",
              "Cheese                                  2281\n",
              "Lettuce                                 1742\n",
              "Sour Cream                              1711\n",
              "Black Beans                             1342\n",
              "                                        1246\n",
              "Fresh Tomato Salsa                      1046\n",
              "Guacamole                               1037\n",
              "Fajita Vegetables                        722\n",
              "Pinto Beans                              582\n",
              "Roasted Chili Corn Salsa                 457\n",
              "Fresh Tomato Salsa (Mild)                351\n",
              "Tomatillo Red Chili Salsa                325\n",
              "Fajita Veggies                           302\n",
              "Roasted Chili Corn Salsa (Medium)        270\n",
              "Tomatillo-Red Chili Salsa (Hot)          259\n",
              "Tomatillo Green Chili Salsa              230\n",
              "Diet Coke                                134\n",
              "Tomatillo-Green Chili Salsa (Medium)     128\n",
              "Coke                                     123\n",
              "Sprite                                    77\n",
              "Lemonade                                  33\n",
              "Fresh Tomato (Mild)                       31\n",
              "Coca Cola                                 26\n",
              "Nestea                                    20\n",
              "Dr. Pepper                                18\n",
              "Mountain Dew                              15\n",
              "Diet Dr. Pepper                           13\n",
              "Pineapple Orange Banana                    8\n",
              "Blackberry                                 8\n",
              "Peach Orange                               8\n",
              "Clementine                                 8\n",
              "Cilantro-Lime Rice                         7\n",
              "Apple                                      6\n",
              "Salsa                                      6\n",
              "White Rice                                 5\n",
              "Adobo-Marinated and Grilled Chicken        5\n",
              "Pomegranate Cherry                         5\n",
              "Adobo-Marinated and Grilled Steak          4\n",
              "Grapefruit                                 4\n",
              "Vegetarian Black Beans                     3\n",
              "Roasted Chili Corn (Medium)                3\n",
              "Tomatillo Red Chili (Hot)                  3\n",
              "Braised Barbacoa                           2\n",
              "Brown Rice                                 2\n",
              "Tomatillo Green Chili (Medium)             2\n",
              "Braised Carnitas                           1\n",
              "dtype: int64"
            ]
          },
          "metadata": {},
          "execution_count": 58
        }
      ]
    },
    {
      "cell_type": "markdown",
      "metadata": {
        "id": "fwaMJ0Ma2LUQ"
      },
      "source": [
        "### Step 12. How many items were orderd in total?"
      ]
    },
    {
      "cell_type": "code",
      "execution_count": 23,
      "metadata": {
        "id": "t_jLOvHW2LUR",
        "colab": {
          "base_uri": "https://localhost:8080/"
        },
        "outputId": "61b14b86-3514-47ad-ce53-0d098a960b38"
      },
      "outputs": [
        {
          "output_type": "execute_result",
          "data": {
            "text/plain": [
              "4972"
            ]
          },
          "metadata": {},
          "execution_count": 23
        }
      ],
      "source": [
        "chipo_db['quantity'].sum()"
      ]
    },
    {
      "cell_type": "markdown",
      "metadata": {
        "id": "BNjVyEI12LUR"
      },
      "source": [
        "### Step 13. Turn the item price into a float"
      ]
    },
    {
      "cell_type": "markdown",
      "metadata": {
        "id": "UR657BPQ2LUR"
      },
      "source": [
        "#### Step 13.a. Check the item price type"
      ]
    },
    {
      "cell_type": "code",
      "execution_count": 24,
      "metadata": {
        "id": "R7LGeLgL2LUR",
        "colab": {
          "base_uri": "https://localhost:8080/"
        },
        "outputId": "a7938059-d1b8-47d4-d906-15e1e87e4248"
      },
      "outputs": [
        {
          "output_type": "execute_result",
          "data": {
            "text/plain": [
              "dtype('O')"
            ]
          },
          "metadata": {},
          "execution_count": 24
        }
      ],
      "source": [
        "chipo_db['item_price'].dtype"
      ]
    },
    {
      "cell_type": "markdown",
      "metadata": {
        "id": "f3C4qWHv2LUR"
      },
      "source": [
        "#### Step 13.b. Create a lambda function and change the type of item price"
      ]
    },
    {
      "cell_type": "code",
      "execution_count": 28,
      "metadata": {
        "collapsed": true,
        "id": "i5JUKa7l2LUS"
      },
      "outputs": [],
      "source": [
        "chipo_db['item_price'] = chipo_db['item_price'].apply(lambda x: x.replace('$',''))\n",
        "chipo_db['item_price'] = pd.to_numeric(chipo_db['item_price'])"
      ]
    },
    {
      "cell_type": "markdown",
      "metadata": {
        "id": "XD_3OK1S2LUS"
      },
      "source": [
        "#### Step 13.c. Check the item price type"
      ]
    },
    {
      "cell_type": "code",
      "execution_count": 29,
      "metadata": {
        "id": "RNN8Np6C2LUS",
        "colab": {
          "base_uri": "https://localhost:8080/"
        },
        "outputId": "dd81a5c1-7c7f-4d1d-fca4-fb5d0c3e31e9"
      },
      "outputs": [
        {
          "output_type": "execute_result",
          "data": {
            "text/plain": [
              "dtype('float64')"
            ]
          },
          "metadata": {},
          "execution_count": 29
        }
      ],
      "source": [
        "chipo_db['item_price'].dtype"
      ]
    },
    {
      "cell_type": "markdown",
      "metadata": {
        "id": "-mNSDDvf2LUS"
      },
      "source": [
        "### Step 14. How much was the revenue for the period in the dataset?"
      ]
    },
    {
      "cell_type": "code",
      "execution_count": 30,
      "metadata": {
        "id": "3Ev7xuKF2LUS",
        "colab": {
          "base_uri": "https://localhost:8080/"
        },
        "outputId": "4e29dad2-bd8f-49ba-8a83-d4de7bd54575"
      },
      "outputs": [
        {
          "output_type": "execute_result",
          "data": {
            "text/plain": [
              "34500.16"
            ]
          },
          "metadata": {},
          "execution_count": 30
        }
      ],
      "source": [
        "chipo_db['item_price'].sum()"
      ]
    },
    {
      "cell_type": "markdown",
      "metadata": {
        "id": "q6YkocEo2LUT"
      },
      "source": [
        "### Step 15. How many orders were made in the period?"
      ]
    },
    {
      "cell_type": "code",
      "execution_count": 32,
      "metadata": {
        "id": "2wApHHPJ2LUT",
        "colab": {
          "base_uri": "https://localhost:8080/"
        },
        "outputId": "5a0ecff0-530f-46cb-cbdd-aba744f54e45"
      },
      "outputs": [
        {
          "output_type": "execute_result",
          "data": {
            "text/plain": [
              "1834"
            ]
          },
          "metadata": {},
          "execution_count": 32
        }
      ],
      "source": [
        "chipo_db['order_id'].nunique()"
      ]
    },
    {
      "cell_type": "code",
      "source": [
        "chipo_db['order_id'].max()"
      ],
      "metadata": {
        "colab": {
          "base_uri": "https://localhost:8080/"
        },
        "id": "YzaOL7Xed-My",
        "outputId": "ead64e3e-f458-42a8-947d-c3ffd25d5436"
      },
      "execution_count": 33,
      "outputs": [
        {
          "output_type": "execute_result",
          "data": {
            "text/plain": [
              "1834"
            ]
          },
          "metadata": {},
          "execution_count": 33
        }
      ]
    },
    {
      "cell_type": "markdown",
      "metadata": {
        "id": "rwaxJ8PB2LUT"
      },
      "source": [
        "### Step 16. What is the average revenue amount per order?"
      ]
    },
    {
      "cell_type": "code",
      "execution_count": 56,
      "metadata": {
        "id": "X7YJmOZA2LUT",
        "colab": {
          "base_uri": "https://localhost:8080/"
        },
        "outputId": "a2861e4c-642f-4c79-f3b6-4c6846525746"
      },
      "outputs": [
        {
          "output_type": "execute_result",
          "data": {
            "text/plain": [
              "18.81142857142869"
            ]
          },
          "metadata": {},
          "execution_count": 56
        }
      ],
      "source": [
        "# Solution 1\n",
        "chipo_by_order = chipo_db.groupby('order_id')['item_price'].agg(sum)\n",
        "chipo_by_order = chipo_by_order.to_frame().reset_index()\n",
        "chipo_by_order.rename(columns = {'item_price':'total'}, inplace = True)\n",
        "order_mean = chipo_by_order['total'].mean()\n",
        "order_mean"
      ]
    },
    {
      "cell_type": "markdown",
      "metadata": {
        "id": "LfgzqhZY2LUU"
      },
      "source": [
        "### Step 17. How many different items are sold?"
      ]
    },
    {
      "cell_type": "code",
      "execution_count": 57,
      "metadata": {
        "id": "LF6dBD6N2LUU",
        "colab": {
          "base_uri": "https://localhost:8080/"
        },
        "outputId": "31d13664-a52f-4f17-d3c3-3c538245f51b"
      },
      "outputs": [
        {
          "output_type": "execute_result",
          "data": {
            "text/plain": [
              "50"
            ]
          },
          "metadata": {},
          "execution_count": 57
        }
      ],
      "source": [
        "chipo_db['item_name'].nunique()"
      ]
    }
  ],
  "metadata": {
    "anaconda-cloud": {},
    "kernelspec": {
      "display_name": "Python [default]",
      "language": "python",
      "name": "python2"
    },
    "language_info": {
      "codemirror_mode": {
        "name": "ipython",
        "version": 2
      },
      "file_extension": ".py",
      "mimetype": "text/x-python",
      "name": "python",
      "nbconvert_exporter": "python",
      "pygments_lexer": "ipython2",
      "version": "2.7.12"
    },
    "colab": {
      "name": "Chipotle.ipynb",
      "provenance": [],
      "include_colab_link": true
    }
  },
  "nbformat": 4,
  "nbformat_minor": 0
}