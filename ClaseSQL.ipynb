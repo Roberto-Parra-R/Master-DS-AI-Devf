{
  "nbformat": 4,
  "nbformat_minor": 0,
  "metadata": {
    "colab": {
      "name": "ClaseSQL.ipynb",
      "provenance": [],
      "authorship_tag": "ABX9TyOmYxicShv3YR7MDoyfF1GL",
      "include_colab_link": true
    },
    "kernelspec": {
      "name": "python3",
      "display_name": "Python 3"
    },
    "language_info": {
      "name": "python"
    }
  },
  "cells": [
    {
      "cell_type": "markdown",
      "metadata": {
        "id": "view-in-github",
        "colab_type": "text"
      },
      "source": [
        "<a href=\"https://colab.research.google.com/github/Roberto-Parra-R/Master-DS-AI-Devf/blob/master/ClaseSQL.ipynb\" target=\"_parent\"><img src=\"https://colab.research.google.com/assets/colab-badge.svg\" alt=\"Open In Colab\"/></a>"
      ]
    },
    {
      "cell_type": "code",
      "execution_count": null,
      "metadata": {
        "id": "l_EZo2Eq2YKv"
      },
      "outputs": [],
      "source": [
        "USE lessons;\n",
        "\n",
        "CREATE TABLE IF NOT EXISTS \n",
        "users (\n",
        "  email varchar(45), \n",
        "  first_name varchar(45), \n",
        "  last_name varchar(45), \n",
        "  address varchar(45), \n",
        "  age int, \n",
        "  PRIMARY KEY (email)\n",
        ");\n",
        "SHOW TABLES;\n",
        "DESCRIBE users;\n",
        "\n",
        "INSERT INTO users VALUES ('bob@example.com', 'Bob', 'Codd', '123 Fantasy lane, Fantasy City', '27');\n",
        "INSERT INTO users VALUES ('tom@web.com', 'Tom', 'Fake', '456 Fantasy lane, Fantasy City', 39);\n",
        "\n",
        "# Seleccionamos todos los registros de nuestra tabla\n",
        "SELECT * FROM users;\n",
        "\n",
        "# Seleccionamos únicamente un par de columnas pero todas las filas (sin filtro)\n",
        "SELECT email, first_name FROM users;\n",
        "SELECT first_name, last_name FROM users;\n",
        "\n",
        "# ¿Que pasaría si seleccionamos una columna que no existe?\n",
        "SELECT email, address FROM users;"
      ]
    }
  ]
}